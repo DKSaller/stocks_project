{
 "cells": [
  {
   "cell_type": "code",
   "execution_count": 1,
   "id": "81f55110-8e62-4767-8a49-1124bcbd0bf1",
   "metadata": {},
   "outputs": [
    {
     "name": "stdout",
     "output_type": "stream",
     "text": [
      "Requirement already satisfied: requests in c:\\users\\salle\\anaconda3\\lib\\site-packages (2.32.3)\n",
      "Requirement already satisfied: pandas in c:\\users\\salle\\anaconda3\\lib\\site-packages (2.2.3)\n",
      "Requirement already satisfied: alpha-vantage in c:\\users\\salle\\anaconda3\\lib\\site-packages (3.0.0)\n",
      "Requirement already satisfied: charset-normalizer<4,>=2 in c:\\users\\salle\\anaconda3\\lib\\site-packages (from requests) (3.3.2)\n",
      "Requirement already satisfied: idna<4,>=2.5 in c:\\users\\salle\\anaconda3\\lib\\site-packages (from requests) (3.7)\n",
      "Requirement already satisfied: urllib3<3,>=1.21.1 in c:\\users\\salle\\anaconda3\\lib\\site-packages (from requests) (2.2.3)\n",
      "Requirement already satisfied: certifi>=2017.4.17 in c:\\users\\salle\\anaconda3\\lib\\site-packages (from requests) (2025.4.26)\n",
      "Requirement already satisfied: numpy>=1.26.0 in c:\\users\\salle\\anaconda3\\lib\\site-packages (from pandas) (2.2.4)\n",
      "Requirement already satisfied: python-dateutil>=2.8.2 in c:\\users\\salle\\anaconda3\\lib\\site-packages (from pandas) (2.9.0.post0)\n",
      "Requirement already satisfied: pytz>=2020.1 in c:\\users\\salle\\anaconda3\\lib\\site-packages (from pandas) (2024.1)\n",
      "Requirement already satisfied: tzdata>=2022.7 in c:\\users\\salle\\anaconda3\\lib\\site-packages (from pandas) (2025.2)\n",
      "Requirement already satisfied: aiohttp in c:\\users\\salle\\anaconda3\\lib\\site-packages (from alpha-vantage) (3.10.5)\n",
      "Requirement already satisfied: six>=1.5 in c:\\users\\salle\\anaconda3\\lib\\site-packages (from python-dateutil>=2.8.2->pandas) (1.16.0)\n",
      "Requirement already satisfied: aiohappyeyeballs>=2.3.0 in c:\\users\\salle\\anaconda3\\lib\\site-packages (from aiohttp->alpha-vantage) (2.4.0)\n",
      "Requirement already satisfied: aiosignal>=1.1.2 in c:\\users\\salle\\anaconda3\\lib\\site-packages (from aiohttp->alpha-vantage) (1.2.0)\n",
      "Requirement already satisfied: attrs>=17.3.0 in c:\\users\\salle\\anaconda3\\lib\\site-packages (from aiohttp->alpha-vantage) (23.1.0)\n",
      "Requirement already satisfied: frozenlist>=1.1.1 in c:\\users\\salle\\anaconda3\\lib\\site-packages (from aiohttp->alpha-vantage) (1.4.0)\n",
      "Requirement already satisfied: multidict<7.0,>=4.5 in c:\\users\\salle\\anaconda3\\lib\\site-packages (from aiohttp->alpha-vantage) (6.0.4)\n",
      "Requirement already satisfied: yarl<2.0,>=1.0 in c:\\users\\salle\\anaconda3\\lib\\site-packages (from aiohttp->alpha-vantage) (1.11.0)\n",
      "Note: you may need to restart the kernel to use updated packages.\n"
     ]
    }
   ],
   "source": [
    "pip install requests pandas alpha-vantage"
   ]
  },
  {
   "cell_type": "code",
   "execution_count": 2,
   "id": "0c97ad6f-4d7c-44a9-bfdb-94c948bbfcfa",
   "metadata": {},
   "outputs": [],
   "source": [
    "import pandas as pd\n",
    "from alpha_vantage.timeseries import TimeSeries\n",
    "import time"
   ]
  },
  {
   "cell_type": "code",
   "execution_count": 3,
   "id": "90e772e5-bc13-4457-9b40-18da5f44bb63",
   "metadata": {},
   "outputs": [],
   "source": [
    "api_key = '63HJR4HE5QILLVU3'"
   ]
  },
  {
   "cell_type": "code",
   "execution_count": 4,
   "id": "f74c2aa5-6725-46e1-b1ac-467d27c5f710",
   "metadata": {},
   "outputs": [],
   "source": [
    "ts = TimeSeries(key=api_key, output_format = 'pandas')"
   ]
  },
  {
   "cell_type": "code",
   "execution_count": 5,
   "id": "01519564-a3de-4f65-bada-241c864b3c67",
   "metadata": {},
   "outputs": [
    {
     "name": "stdout",
     "output_type": "stream",
     "text": [
      "Data saved to aapl_stock_data.csv\n"
     ]
    }
   ],
   "source": [
    "try:\n",
    "    data, meta_data = ts.get_daily(symbol = 'AAPL', outputsize = 'full')\n",
    "    data.columns = ['open', 'high', 'low', 'close', 'volume']\n",
    "    data['symbol'] = 'AAPL'\n",
    "    data = data.reset_index()\n",
    "    data.to_csv('aapl_stock_data.csv', index=False)\n",
    "    print(\"Data saved to aapl_stock_data.csv\")\n",
    "except Exception as e:\n",
    "    print(f\"Error fetching data: {e}\")\n",
    "\n",
    "time.sleep(15)"
   ]
  },
  {
   "cell_type": "code",
   "execution_count": 6,
   "id": "2df08345-72bf-4a0d-b167-85f05507014b",
   "metadata": {},
   "outputs": [
    {
     "name": "stdout",
     "output_type": "stream",
     "text": [
      "Requirement already satisfied: psycopg2-binary in c:\\users\\salle\\anaconda3\\lib\\site-packages (2.9.10)\n",
      "Requirement already satisfied: sqlalchemy in c:\\users\\salle\\anaconda3\\lib\\site-packages (2.0.39)\n",
      "Requirement already satisfied: greenlet!=0.4.17 in c:\\users\\salle\\anaconda3\\lib\\site-packages (from sqlalchemy) (3.1.1)\n",
      "Requirement already satisfied: typing-extensions>=4.6.0 in c:\\users\\salle\\anaconda3\\lib\\site-packages (from sqlalchemy) (4.11.0)\n",
      "Note: you may need to restart the kernel to use updated packages.\n"
     ]
    }
   ],
   "source": [
    "pip install psycopg2-binary sqlalchemy"
   ]
  },
  {
   "cell_type": "code",
   "execution_count": 7,
   "id": "9f9a753f-5a46-458d-afff-23275a0c15af",
   "metadata": {},
   "outputs": [],
   "source": [
    "from sqlalchemy import create_engine\n",
    "import psycopg2"
   ]
  },
  {
   "cell_type": "code",
   "execution_count": 8,
   "id": "a43e7181-0644-4c5b-ac5a-18506f4c5ef9",
   "metadata": {},
   "outputs": [],
   "source": [
    "db_params = {\n",
    "    'dbname': 'stock_analysis',\n",
    "    'user': 'postgres',\n",
    "    'password': 'postgres',\n",
    "    'host': 'localhost',\n",
    "    'port': '5432'\n",
    "}"
   ]
  },
  {
   "cell_type": "code",
   "execution_count": 9,
   "id": "4567cc7c-fa10-4c5f-9fbc-22e8f38034cb",
   "metadata": {
    "collapsed": true,
    "jupyter": {
     "outputs_hidden": true
    }
   },
   "outputs": [
    {
     "name": "stdout",
     "output_type": "stream",
     "text": [
      "Error loading data: (psycopg2.errors.UniqueViolation) duplicate key value violates unique constraint \"stock_prices_pkey\"\n",
      "DETAIL:  Key (symbol, date)=(AAPL, 2025-06-20) already exists.\n",
      "\n",
      "[SQL: INSERT INTO stock_prices (symbol, date, open, high, low, close, volume) VALUES (%(symbol__0)s, %(date__0)s, %(open__0)s, %(high__0)s, %(low__0)s, %(close__0)s, %(volume__0)s), (%(symbol__1)s, %(date__1)s, %(open__1)s, %(high__1)s, %(low__1)s, %(close ... 109957 characters truncated ... __999)s, %(date__999)s, %(open__999)s, %(high__999)s, %(low__999)s, %(close__999)s, %(volume__999)s)]\n",
      "[parameters: {'symbol__0': 'AAPL', 'date__0': datetime.date(2025, 6, 20), 'volume__0': 96813542.0, 'open__0': 198.235, 'close__0': 201.0, 'high__0': 201.7, 'low__0': 196.855, 'symbol__1': 'AAPL', 'date__1': datetime.date(2025, 6, 18), 'volume__1': 45394689.0, 'open__1': 195.94, 'close__1': 196.58, 'high__1': 197.57, 'low__1': 195.07, 'symbol__2': 'AAPL', 'date__2': datetime.date(2025, 6, 17), 'volume__2': 38856152.0, 'open__2': 197.2, 'close__2': 195.64, 'high__2': 198.39, 'low__2': 195.21, 'symbol__3': 'AAPL', 'date__3': datetime.date(2025, 6, 16), 'volume__3': 43020691.0, 'open__3': 197.3, 'close__3': 198.42, 'high__3': 198.685, 'low__3': 196.5636, 'symbol__4': 'AAPL', 'date__4': datetime.date(2025, 6, 13), 'volume__4': 51447349.0, 'open__4': 199.73, 'close__4': 196.45, 'high__4': 200.37, 'low__4': 195.7, 'symbol__5': 'AAPL', 'date__5': datetime.date(2025, 6, 12), 'volume__5': 43904635.0, 'open__5': 199.08, 'close__5': 199.2, 'high__5': 199.68, 'low__5': 197.3601, 'symbol__6': 'AAPL', 'date__6': datetime.date(2025, 6, 11), 'volume__6': 60989857.0, 'open__6': 203.5, 'close__6': 198.78, 'high__6': 204.5, 'low__6': 198.41, 'symbol__7': 'AAPL' ... 6900 parameters truncated ... 'low__992': 140.665, 'symbol__993': 'AAPL', 'date__993': datetime.date(2021, 7, 7), 'volume__993': 104911589.0, 'open__993': 143.535, 'close__993': 144.57, 'high__993': 144.89, 'low__993': 142.66, 'symbol__994': 'AAPL', 'date__994': datetime.date(2021, 7, 6), 'volume__994': 108181793.0, 'open__994': 140.07, 'close__994': 142.02, 'high__994': 143.15, 'low__994': 140.07, 'symbol__995': 'AAPL', 'date__995': datetime.date(2021, 7, 2), 'volume__995': 78945572.0, 'open__995': 137.9, 'close__995': 139.96, 'high__995': 140.0, 'low__995': 137.745, 'symbol__996': 'AAPL', 'date__996': datetime.date(2021, 7, 1), 'volume__996': 52485781.0, 'open__996': 136.6, 'close__996': 137.27, 'high__996': 137.33, 'low__996': 135.76, 'symbol__997': 'AAPL', 'date__997': datetime.date(2021, 6, 30), 'volume__997': 63261393.0, 'open__997': 136.17, 'close__997': 136.96, 'high__997': 137.41, 'low__997': 135.87, 'symbol__998': 'AAPL', 'date__998': datetime.date(2021, 6, 29), 'volume__998': 64556081.0, 'open__998': 134.8, 'close__998': 136.33, 'high__998': 136.49, 'low__998': 134.35, 'symbol__999': 'AAPL', 'date__999': datetime.date(2021, 6, 28), 'volume__999': 62111303.0, 'open__999': 133.41, 'close__999': 134.78, 'high__999': 135.245, 'low__999': 133.35}]\n",
      "(Background on this error at: https://sqlalche.me/e/20/gkpj)\n"
     ]
    }
   ],
   "source": [
    "try:\n",
    "    df = pd.read_csv('aapl_stock_data.csv')\n",
    "    # Ensure date column is in correct format\n",
    "    df['date'] = pd.to_datetime(df['date']).dt.date\n",
    "    # Select only columns that match the table schema\n",
    "    df = df[['symbol', 'date', 'open', 'high', 'low', 'close', 'volume']]\n",
    "    # Create SQLAlchemy engine\n",
    "    engine = create_engine(f\"postgresql://{db_params['user']}:{db_params['password']}@{db_params['host']}:{db_params['port']}/{db_params['dbname']}\")\n",
    "    # Load to SQL\n",
    "    df.to_sql('stock_prices', engine, if_exists='append', index=False)\n",
    "    print(\"Data loaded into stock_prices table\")\n",
    "except Exception as e:\n",
    "    print(f\"Error loading data: {e}\")\n",
    "\n"
   ]
  },
  {
   "cell_type": "code",
   "execution_count": 11,
   "id": "2f0b3e95-15ff-457d-b136-1b731610f86d",
   "metadata": {},
   "outputs": [
    {
     "name": "stdout",
     "output_type": "stream",
     "text": [
      "Loaded 6448 rows into stock_prices\n"
     ]
    }
   ],
   "source": [
    "try:\n",
    "    with psycopg2.connect(**db_params) as conn:\n",
    "        cur = conn.cursor()  # No nested 'with conn'\n",
    "        cur.execute(\"SELECT COUNT(*) FROM stock_prices\")\n",
    "        count = cur.fetchone()[0]\n",
    "        print(f\"Loaded {count} rows into stock_prices\")\n",
    "        cur.close()\n",
    "except Exception as e:\n",
    "    print(f\"Error verifying data: {e}\")"
   ]
  },
  {
   "cell_type": "code",
   "execution_count": null,
   "id": "b2ecaabb-3f33-447b-86b4-2a7e7a217530",
   "metadata": {},
   "outputs": [],
   "source": []
  }
 ],
 "metadata": {
  "kernelspec": {
   "display_name": "Python 3 (ipykernel)",
   "language": "python",
   "name": "python3"
  },
  "language_info": {
   "codemirror_mode": {
    "name": "ipython",
    "version": 3
   },
   "file_extension": ".py",
   "mimetype": "text/x-python",
   "name": "python",
   "nbconvert_exporter": "python",
   "pygments_lexer": "ipython3",
   "version": "3.12.7"
  }
 },
 "nbformat": 4,
 "nbformat_minor": 5
}
